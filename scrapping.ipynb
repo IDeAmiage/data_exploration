{
 "cells": [
  {
   "cell_type": "code",
   "execution_count": 24,
   "metadata": {},
   "outputs": [
    {
     "name": "stdout",
     "output_type": "stream",
     "text": [
      "end of file\n",
      "end of file\n",
      "end of file\n",
      "end of file\n",
      "end of file\n",
      "end of file\n",
      "end of file\n",
      "end of file\n",
      "end of file\n",
      "end of file\n",
      "end of file\n",
      "end of file\n"
     ]
    }
   ],
   "source": [
    "import bs4 as bs\n",
    "import urllib.request\n",
    "import pandas as pd\n",
    "import numpy as np\n",
    "\n",
    "source = urllib.request.urlopen('https://www.insee.fr/fr/statistiques/2011101?geo=DEP-40#consulter-sommaire').read()\n",
    "soup = bs.BeautifulSoup(source,'lxml')\n",
    "h3s = soup.find_all('h3')\n",
    "titles = []\n",
    "for i in h3s:\n",
    "    try:\n",
    "        titles.append(str(i).split('</span>')[1].split('</h3>')[0].replace('\\n',''))\n",
    "    except:\n",
    "        print('end of file')\n",
    "titles = np.unique(titles)\n",
    "table = soup.find_all('table')\n",
    "for i in range(len(titles)):\n",
    "    df = pd.read_html(str(table))[i]\n",
    "    df.to_csv('data_scrapped/'+titles[i]+'.csv', index=False)"
   ]
  }
 ],
 "metadata": {
  "interpreter": {
   "hash": "ac59ebe37160ed0dfa835113d9b8498d9f09ceb179beaac4002f036b9467c963"
  },
  "kernelspec": {
   "display_name": "Python 3.9.7 64-bit",
   "language": "python",
   "name": "python3"
  },
  "language_info": {
   "codemirror_mode": {
    "name": "ipython",
    "version": 3
   },
   "file_extension": ".py",
   "mimetype": "text/x-python",
   "name": "python",
   "nbconvert_exporter": "python",
   "pygments_lexer": "ipython3",
   "version": "3.9.7"
  },
  "orig_nbformat": 4
 },
 "nbformat": 4,
 "nbformat_minor": 2
}
