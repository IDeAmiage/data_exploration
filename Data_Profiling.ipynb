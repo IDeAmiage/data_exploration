{
  "nbformat": 4,
  "nbformat_minor": 0,
  "metadata": {
    "colab": {
      "name": "Base_sirene_V3.ipynb",
      "provenance": [],
      "machine_shape": "hm",
      "collapsed_sections": []
    },
    "kernelspec": {
      "name": "python3",
      "display_name": "Python 3"
    },
    "language_info": {
      "name": "python"
    }
  },
  "cells": [
    {
      "cell_type": "markdown",
      "source": [
        "Test Ram et GPU"
      ],
      "metadata": {
        "id": "eez1_wr7_CAK"
      }
    },
    {
      "cell_type": "code",
      "execution_count": null,
      "metadata": {
        "colab": {
          "base_uri": "https://localhost:8080/"
        },
        "id": "zbk0i_Y4-xjH",
        "outputId": "308d29da-322a-4c33-e570-0729543b1322"
      },
      "outputs": [
        {
          "output_type": "stream",
          "name": "stdout",
          "text": [
            "Not connected to a GPU\n"
          ]
        }
      ],
      "source": [
        "gpu_info = !nvidia-smi\n",
        "gpu_info = '\\n'.join(gpu_info)\n",
        "if gpu_info.find('failed') >= 0:\n",
        "  print('Not connected to a GPU')\n",
        "else:\n",
        "  print(gpu_info)"
      ]
    },
    {
      "cell_type": "code",
      "source": [
        "from psutil import virtual_memory\n",
        "ram_gb = virtual_memory().total / 1e9\n",
        "print('Your runtime has {:.1f} gigabytes of available RAM\\n'.format(ram_gb))\n",
        "\n",
        "if ram_gb < 20:\n",
        "  print('Not using a high-RAM runtime')\n",
        "else:\n",
        "  print('You are using a high-RAM runtime!')"
      ],
      "metadata": {
        "colab": {
          "base_uri": "https://localhost:8080/"
        },
        "id": "_laFhxr__Eh1",
        "outputId": "fc579938-fd86-4969-af03-272e62a67b90"
      },
      "execution_count": null,
      "outputs": [
        {
          "output_type": "stream",
          "name": "stdout",
          "text": [
            "Your runtime has 27.3 gigabytes of available RAM\n",
            "\n",
            "You are using a high-RAM runtime!\n"
          ]
        }
      ]
    },
    {
      "cell_type": "markdown",
      "source": [
        "# base de Données Sirène consolidée"
      ],
      "metadata": {
        "id": "idImfSq0_mVW"
      }
    },
    {
      "cell_type": "code",
      "source": [
        "!pip install pandas-profiling==2.7.1"
      ],
      "metadata": {
        "id": "8gX-7sg0Y5Xe",
        "colab": {
          "base_uri": "https://localhost:8080/"
        },
        "outputId": "330e9b94-3fdd-4e9c-9704-052daa82a613"
      },
      "execution_count": null,
      "outputs": [
        {
          "output_type": "stream",
          "name": "stdout",
          "text": [
            "Collecting pandas-profiling==2.7.1\n",
            "  Downloading pandas_profiling-2.7.1-py2.py3-none-any.whl (252 kB)\n",
            "\u001b[?25l\r\u001b[K     |█▎                              | 10 kB 19.1 MB/s eta 0:00:01\r\u001b[K     |██▋                             | 20 kB 8.9 MB/s eta 0:00:01\r\u001b[K     |████                            | 30 kB 7.7 MB/s eta 0:00:01\r\u001b[K     |█████▏                          | 40 kB 3.6 MB/s eta 0:00:01\r\u001b[K     |██████▌                         | 51 kB 3.7 MB/s eta 0:00:01\r\u001b[K     |███████▉                        | 61 kB 4.4 MB/s eta 0:00:01\r\u001b[K     |█████████                       | 71 kB 4.5 MB/s eta 0:00:01\r\u001b[K     |██████████▍                     | 81 kB 4.8 MB/s eta 0:00:01\r\u001b[K     |███████████▊                    | 92 kB 5.3 MB/s eta 0:00:01\r\u001b[K     |█████████████                   | 102 kB 4.3 MB/s eta 0:00:01\r\u001b[K     |██████████████▎                 | 112 kB 4.3 MB/s eta 0:00:01\r\u001b[K     |███████████████▋                | 122 kB 4.3 MB/s eta 0:00:01\r\u001b[K     |█████████████████               | 133 kB 4.3 MB/s eta 0:00:01\r\u001b[K     |██████████████████▏             | 143 kB 4.3 MB/s eta 0:00:01\r\u001b[K     |███████████████████▌            | 153 kB 4.3 MB/s eta 0:00:01\r\u001b[K     |████████████████████▉           | 163 kB 4.3 MB/s eta 0:00:01\r\u001b[K     |██████████████████████          | 174 kB 4.3 MB/s eta 0:00:01\r\u001b[K     |███████████████████████▍        | 184 kB 4.3 MB/s eta 0:00:01\r\u001b[K     |████████████████████████▊       | 194 kB 4.3 MB/s eta 0:00:01\r\u001b[K     |██████████████████████████      | 204 kB 4.3 MB/s eta 0:00:01\r\u001b[K     |███████████████████████████▎    | 215 kB 4.3 MB/s eta 0:00:01\r\u001b[K     |████████████████████████████▋   | 225 kB 4.3 MB/s eta 0:00:01\r\u001b[K     |██████████████████████████████  | 235 kB 4.3 MB/s eta 0:00:01\r\u001b[K     |███████████████████████████████▏| 245 kB 4.3 MB/s eta 0:00:01\r\u001b[K     |████████████████████████████████| 252 kB 4.3 MB/s \n",
            "\u001b[?25hRequirement already satisfied: astropy>=4.0 in /usr/local/lib/python3.7/dist-packages (from pandas-profiling==2.7.1) (4.3.1)\n",
            "Requirement already satisfied: ipywidgets>=7.5.1 in /usr/local/lib/python3.7/dist-packages (from pandas-profiling==2.7.1) (7.7.0)\n",
            "Collecting confuse>=1.0.0\n",
            "  Downloading confuse-1.7.0-py2.py3-none-any.whl (25 kB)\n",
            "Requirement already satisfied: jinja2>=2.11.1 in /usr/local/lib/python3.7/dist-packages (from pandas-profiling==2.7.1) (2.11.3)\n",
            "Collecting visions[type_image_path]==0.4.1\n",
            "  Downloading visions-0.4.1-py3-none-any.whl (58 kB)\n",
            "\u001b[K     |████████████████████████████████| 58 kB 6.8 MB/s \n",
            "\u001b[?25hRequirement already satisfied: matplotlib>=3.2.0 in /usr/local/lib/python3.7/dist-packages (from pandas-profiling==2.7.1) (3.2.2)\n",
            "Requirement already satisfied: missingno>=0.4.2 in /usr/local/lib/python3.7/dist-packages (from pandas-profiling==2.7.1) (0.5.1)\n",
            "Collecting tangled-up-in-unicode>=0.0.4\n",
            "  Downloading tangled_up_in_unicode-0.2.0-py3-none-any.whl (4.7 MB)\n",
            "\u001b[K     |████████████████████████████████| 4.7 MB 65.9 MB/s \n",
            "\u001b[?25hRequirement already satisfied: numpy>=1.16.0 in /usr/local/lib/python3.7/dist-packages (from pandas-profiling==2.7.1) (1.21.5)\n",
            "Requirement already satisfied: tqdm>=4.43.0 in /usr/local/lib/python3.7/dist-packages (from pandas-profiling==2.7.1) (4.63.0)\n",
            "Collecting htmlmin>=0.1.12\n",
            "  Downloading htmlmin-0.1.12.tar.gz (19 kB)\n",
            "Requirement already satisfied: requests>=2.23.0 in /usr/local/lib/python3.7/dist-packages (from pandas-profiling==2.7.1) (2.23.0)\n",
            "Requirement already satisfied: pandas!=1.0.0,!=1.0.1,!=1.0.2,>=0.25.3 in /usr/local/lib/python3.7/dist-packages (from pandas-profiling==2.7.1) (1.3.5)\n",
            "Collecting phik>=0.9.10\n",
            "  Downloading phik-0.12.2-cp37-cp37m-manylinux_2_17_x86_64.manylinux2014_x86_64.whl (690 kB)\n",
            "\u001b[K     |████████████████████████████████| 690 kB 5.1 MB/s \n",
            "\u001b[?25hRequirement already satisfied: joblib in /usr/local/lib/python3.7/dist-packages (from pandas-profiling==2.7.1) (1.1.0)\n",
            "Requirement already satisfied: scipy>=1.4.1 in /usr/local/lib/python3.7/dist-packages (from pandas-profiling==2.7.1) (1.4.1)\n",
            "Requirement already satisfied: attrs>=19.3.0 in /usr/local/lib/python3.7/dist-packages (from visions[type_image_path]==0.4.1->pandas-profiling==2.7.1) (21.4.0)\n",
            "Requirement already satisfied: networkx>=2.4 in /usr/local/lib/python3.7/dist-packages (from visions[type_image_path]==0.4.1->pandas-profiling==2.7.1) (2.6.3)\n",
            "Requirement already satisfied: Pillow in /usr/local/lib/python3.7/dist-packages (from visions[type_image_path]==0.4.1->pandas-profiling==2.7.1) (7.1.2)\n",
            "Collecting imagehash\n",
            "  Downloading ImageHash-4.2.1.tar.gz (812 kB)\n",
            "\u001b[K     |████████████████████████████████| 812 kB 74.3 MB/s \n",
            "\u001b[?25hRequirement already satisfied: importlib-metadata in /usr/local/lib/python3.7/dist-packages (from astropy>=4.0->pandas-profiling==2.7.1) (4.11.3)\n",
            "Requirement already satisfied: pyerfa>=1.7.3 in /usr/local/lib/python3.7/dist-packages (from astropy>=4.0->pandas-profiling==2.7.1) (2.0.0.1)\n",
            "Requirement already satisfied: pyyaml in /usr/local/lib/python3.7/dist-packages (from confuse>=1.0.0->pandas-profiling==2.7.1) (3.13)\n",
            "Requirement already satisfied: traitlets>=4.3.1 in /usr/local/lib/python3.7/dist-packages (from ipywidgets>=7.5.1->pandas-profiling==2.7.1) (5.1.1)\n",
            "Requirement already satisfied: widgetsnbextension~=3.6.0 in /usr/local/lib/python3.7/dist-packages (from ipywidgets>=7.5.1->pandas-profiling==2.7.1) (3.6.0)\n",
            "Requirement already satisfied: ipython>=4.0.0 in /usr/local/lib/python3.7/dist-packages (from ipywidgets>=7.5.1->pandas-profiling==2.7.1) (5.5.0)\n",
            "Requirement already satisfied: jupyterlab-widgets>=1.0.0 in /usr/local/lib/python3.7/dist-packages (from ipywidgets>=7.5.1->pandas-profiling==2.7.1) (1.1.0)\n",
            "Requirement already satisfied: nbformat>=4.2.0 in /usr/local/lib/python3.7/dist-packages (from ipywidgets>=7.5.1->pandas-profiling==2.7.1) (5.2.0)\n",
            "Requirement already satisfied: ipython-genutils~=0.2.0 in /usr/local/lib/python3.7/dist-packages (from ipywidgets>=7.5.1->pandas-profiling==2.7.1) (0.2.0)\n",
            "Requirement already satisfied: ipykernel>=4.5.1 in /usr/local/lib/python3.7/dist-packages (from ipywidgets>=7.5.1->pandas-profiling==2.7.1) (4.10.1)\n",
            "Requirement already satisfied: tornado>=4.0 in /usr/local/lib/python3.7/dist-packages (from ipykernel>=4.5.1->ipywidgets>=7.5.1->pandas-profiling==2.7.1) (5.1.1)\n",
            "Requirement already satisfied: jupyter-client in /usr/local/lib/python3.7/dist-packages (from ipykernel>=4.5.1->ipywidgets>=7.5.1->pandas-profiling==2.7.1) (5.3.5)\n",
            "Requirement already satisfied: simplegeneric>0.8 in /usr/local/lib/python3.7/dist-packages (from ipython>=4.0.0->ipywidgets>=7.5.1->pandas-profiling==2.7.1) (0.8.1)\n",
            "Requirement already satisfied: pygments in /usr/local/lib/python3.7/dist-packages (from ipython>=4.0.0->ipywidgets>=7.5.1->pandas-profiling==2.7.1) (2.6.1)\n",
            "Requirement already satisfied: pickleshare in /usr/local/lib/python3.7/dist-packages (from ipython>=4.0.0->ipywidgets>=7.5.1->pandas-profiling==2.7.1) (0.7.5)\n",
            "Requirement already satisfied: prompt-toolkit<2.0.0,>=1.0.4 in /usr/local/lib/python3.7/dist-packages (from ipython>=4.0.0->ipywidgets>=7.5.1->pandas-profiling==2.7.1) (1.0.18)\n",
            "Requirement already satisfied: setuptools>=18.5 in /usr/local/lib/python3.7/dist-packages (from ipython>=4.0.0->ipywidgets>=7.5.1->pandas-profiling==2.7.1) (57.4.0)\n",
            "Requirement already satisfied: decorator in /usr/local/lib/python3.7/dist-packages (from ipython>=4.0.0->ipywidgets>=7.5.1->pandas-profiling==2.7.1) (4.4.2)\n",
            "Requirement already satisfied: pexpect in /usr/local/lib/python3.7/dist-packages (from ipython>=4.0.0->ipywidgets>=7.5.1->pandas-profiling==2.7.1) (4.8.0)\n",
            "Requirement already satisfied: MarkupSafe>=0.23 in /usr/local/lib/python3.7/dist-packages (from jinja2>=2.11.1->pandas-profiling==2.7.1) (2.0.1)\n",
            "Requirement already satisfied: cycler>=0.10 in /usr/local/lib/python3.7/dist-packages (from matplotlib>=3.2.0->pandas-profiling==2.7.1) (0.11.0)\n",
            "Requirement already satisfied: kiwisolver>=1.0.1 in /usr/local/lib/python3.7/dist-packages (from matplotlib>=3.2.0->pandas-profiling==2.7.1) (1.4.0)\n",
            "Requirement already satisfied: pyparsing!=2.0.4,!=2.1.2,!=2.1.6,>=2.0.1 in /usr/local/lib/python3.7/dist-packages (from matplotlib>=3.2.0->pandas-profiling==2.7.1) (3.0.7)\n",
            "Requirement already satisfied: python-dateutil>=2.1 in /usr/local/lib/python3.7/dist-packages (from matplotlib>=3.2.0->pandas-profiling==2.7.1) (2.8.2)\n",
            "Requirement already satisfied: typing-extensions in /usr/local/lib/python3.7/dist-packages (from kiwisolver>=1.0.1->matplotlib>=3.2.0->pandas-profiling==2.7.1) (3.10.0.2)\n",
            "Requirement already satisfied: seaborn in /usr/local/lib/python3.7/dist-packages (from missingno>=0.4.2->pandas-profiling==2.7.1) (0.11.2)\n",
            "Requirement already satisfied: jupyter-core in /usr/local/lib/python3.7/dist-packages (from nbformat>=4.2.0->ipywidgets>=7.5.1->pandas-profiling==2.7.1) (4.9.2)\n",
            "Requirement already satisfied: jsonschema!=2.5.0,>=2.4 in /usr/local/lib/python3.7/dist-packages (from nbformat>=4.2.0->ipywidgets>=7.5.1->pandas-profiling==2.7.1) (4.3.3)\n",
            "Requirement already satisfied: importlib-resources>=1.4.0 in /usr/local/lib/python3.7/dist-packages (from jsonschema!=2.5.0,>=2.4->nbformat>=4.2.0->ipywidgets>=7.5.1->pandas-profiling==2.7.1) (5.4.0)\n",
            "Requirement already satisfied: pyrsistent!=0.17.0,!=0.17.1,!=0.17.2,>=0.14.0 in /usr/local/lib/python3.7/dist-packages (from jsonschema!=2.5.0,>=2.4->nbformat>=4.2.0->ipywidgets>=7.5.1->pandas-profiling==2.7.1) (0.18.1)\n",
            "Requirement already satisfied: zipp>=3.1.0 in /usr/local/lib/python3.7/dist-packages (from importlib-resources>=1.4.0->jsonschema!=2.5.0,>=2.4->nbformat>=4.2.0->ipywidgets>=7.5.1->pandas-profiling==2.7.1) (3.7.0)\n",
            "Requirement already satisfied: pytz>=2017.3 in /usr/local/lib/python3.7/dist-packages (from pandas!=1.0.0,!=1.0.1,!=1.0.2,>=0.25.3->pandas-profiling==2.7.1) (2018.9)\n",
            "Collecting scipy>=1.4.1\n",
            "  Downloading scipy-1.7.3-cp37-cp37m-manylinux_2_12_x86_64.manylinux2010_x86_64.whl (38.1 MB)\n",
            "\u001b[K     |████████████████████████████████| 38.1 MB 1.3 MB/s \n",
            "\u001b[?25hRequirement already satisfied: wcwidth in /usr/local/lib/python3.7/dist-packages (from prompt-toolkit<2.0.0,>=1.0.4->ipython>=4.0.0->ipywidgets>=7.5.1->pandas-profiling==2.7.1) (0.2.5)\n",
            "Requirement already satisfied: six>=1.9.0 in /usr/local/lib/python3.7/dist-packages (from prompt-toolkit<2.0.0,>=1.0.4->ipython>=4.0.0->ipywidgets>=7.5.1->pandas-profiling==2.7.1) (1.15.0)\n",
            "Requirement already satisfied: chardet<4,>=3.0.2 in /usr/local/lib/python3.7/dist-packages (from requests>=2.23.0->pandas-profiling==2.7.1) (3.0.4)\n",
            "Requirement already satisfied: urllib3!=1.25.0,!=1.25.1,<1.26,>=1.21.1 in /usr/local/lib/python3.7/dist-packages (from requests>=2.23.0->pandas-profiling==2.7.1) (1.24.3)\n",
            "Requirement already satisfied: certifi>=2017.4.17 in /usr/local/lib/python3.7/dist-packages (from requests>=2.23.0->pandas-profiling==2.7.1) (2021.10.8)\n",
            "Requirement already satisfied: idna<3,>=2.5 in /usr/local/lib/python3.7/dist-packages (from requests>=2.23.0->pandas-profiling==2.7.1) (2.10)\n",
            "Requirement already satisfied: notebook>=4.4.1 in /usr/local/lib/python3.7/dist-packages (from widgetsnbextension~=3.6.0->ipywidgets>=7.5.1->pandas-profiling==2.7.1) (5.3.1)\n",
            "Requirement already satisfied: Send2Trash in /usr/local/lib/python3.7/dist-packages (from notebook>=4.4.1->widgetsnbextension~=3.6.0->ipywidgets>=7.5.1->pandas-profiling==2.7.1) (1.8.0)\n",
            "Requirement already satisfied: terminado>=0.8.1 in /usr/local/lib/python3.7/dist-packages (from notebook>=4.4.1->widgetsnbextension~=3.6.0->ipywidgets>=7.5.1->pandas-profiling==2.7.1) (0.13.3)\n",
            "Requirement already satisfied: nbconvert in /usr/local/lib/python3.7/dist-packages (from notebook>=4.4.1->widgetsnbextension~=3.6.0->ipywidgets>=7.5.1->pandas-profiling==2.7.1) (5.6.1)\n",
            "Requirement already satisfied: pyzmq>=13 in /usr/local/lib/python3.7/dist-packages (from jupyter-client->ipykernel>=4.5.1->ipywidgets>=7.5.1->pandas-profiling==2.7.1) (22.3.0)\n",
            "Requirement already satisfied: ptyprocess in /usr/local/lib/python3.7/dist-packages (from terminado>=0.8.1->notebook>=4.4.1->widgetsnbextension~=3.6.0->ipywidgets>=7.5.1->pandas-profiling==2.7.1) (0.7.0)\n",
            "Requirement already satisfied: PyWavelets in /usr/local/lib/python3.7/dist-packages (from imagehash->visions[type_image_path]==0.4.1->pandas-profiling==2.7.1) (1.3.0)\n",
            "Requirement already satisfied: mistune<2,>=0.8.1 in /usr/local/lib/python3.7/dist-packages (from nbconvert->notebook>=4.4.1->widgetsnbextension~=3.6.0->ipywidgets>=7.5.1->pandas-profiling==2.7.1) (0.8.4)\n",
            "Requirement already satisfied: bleach in /usr/local/lib/python3.7/dist-packages (from nbconvert->notebook>=4.4.1->widgetsnbextension~=3.6.0->ipywidgets>=7.5.1->pandas-profiling==2.7.1) (4.1.0)\n",
            "Requirement already satisfied: entrypoints>=0.2.2 in /usr/local/lib/python3.7/dist-packages (from nbconvert->notebook>=4.4.1->widgetsnbextension~=3.6.0->ipywidgets>=7.5.1->pandas-profiling==2.7.1) (0.4)\n",
            "Requirement already satisfied: testpath in /usr/local/lib/python3.7/dist-packages (from nbconvert->notebook>=4.4.1->widgetsnbextension~=3.6.0->ipywidgets>=7.5.1->pandas-profiling==2.7.1) (0.6.0)\n",
            "Requirement already satisfied: defusedxml in /usr/local/lib/python3.7/dist-packages (from nbconvert->notebook>=4.4.1->widgetsnbextension~=3.6.0->ipywidgets>=7.5.1->pandas-profiling==2.7.1) (0.7.1)\n",
            "Requirement already satisfied: pandocfilters>=1.4.1 in /usr/local/lib/python3.7/dist-packages (from nbconvert->notebook>=4.4.1->widgetsnbextension~=3.6.0->ipywidgets>=7.5.1->pandas-profiling==2.7.1) (1.5.0)\n",
            "Requirement already satisfied: webencodings in /usr/local/lib/python3.7/dist-packages (from bleach->nbconvert->notebook>=4.4.1->widgetsnbextension~=3.6.0->ipywidgets>=7.5.1->pandas-profiling==2.7.1) (0.5.1)\n",
            "Requirement already satisfied: packaging in /usr/local/lib/python3.7/dist-packages (from bleach->nbconvert->notebook>=4.4.1->widgetsnbextension~=3.6.0->ipywidgets>=7.5.1->pandas-profiling==2.7.1) (21.3)\n",
            "Building wheels for collected packages: htmlmin, imagehash\n",
            "  Building wheel for htmlmin (setup.py) ... \u001b[?25l\u001b[?25hdone\n",
            "  Created wheel for htmlmin: filename=htmlmin-0.1.12-py3-none-any.whl size=27098 sha256=4f31c2ecb310d6825bedd3687e3f1857eab5079e77315ccfe9094d1dd36bc885\n",
            "  Stored in directory: /root/.cache/pip/wheels/70/e1/52/5b14d250ba868768823940c3229e9950d201a26d0bd3ee8655\n",
            "  Building wheel for imagehash (setup.py) ... \u001b[?25l\u001b[?25hdone\n",
            "  Created wheel for imagehash: filename=ImageHash-4.2.1-py2.py3-none-any.whl size=295206 sha256=f448a050cc19eec8e6330d44ccfd7be7c4c471760324e2087b8463c434a069a7\n",
            "  Stored in directory: /root/.cache/pip/wheels/4c/d5/59/5e3e297533ddb09407769762985d134135064c6831e29a914e\n",
            "Successfully built htmlmin imagehash\n",
            "Installing collected packages: tangled-up-in-unicode, scipy, visions, imagehash, phik, htmlmin, confuse, pandas-profiling\n",
            "  Attempting uninstall: scipy\n",
            "    Found existing installation: scipy 1.4.1\n",
            "    Uninstalling scipy-1.4.1:\n",
            "      Successfully uninstalled scipy-1.4.1\n",
            "  Attempting uninstall: pandas-profiling\n",
            "    Found existing installation: pandas-profiling 1.4.1\n",
            "    Uninstalling pandas-profiling-1.4.1:\n",
            "      Successfully uninstalled pandas-profiling-1.4.1\n",
            "\u001b[31mERROR: pip's dependency resolver does not currently take into account all the packages that are installed. This behaviour is the source of the following dependency conflicts.\n",
            "albumentations 0.1.12 requires imgaug<0.2.7,>=0.2.5, but you have imgaug 0.2.9 which is incompatible.\u001b[0m\n",
            "Successfully installed confuse-1.7.0 htmlmin-0.1.12 imagehash-4.2.1 pandas-profiling-2.7.1 phik-0.12.2 scipy-1.7.3 tangled-up-in-unicode-0.2.0 visions-0.4.1\n"
          ]
        }
      ]
    },
    {
      "cell_type": "code",
      "source": [
        "!pip install -q datascience"
      ],
      "metadata": {
        "id": "1gdTnn9bbLVp",
        "colab": {
          "base_uri": "https://localhost:8080/"
        },
        "outputId": "0caea2f0-d544-4be3-a831-faa05647b0b6"
      },
      "execution_count": null,
      "outputs": [
        {
          "output_type": "stream",
          "name": "stdout",
          "text": [
            "\u001b[?25l\r\u001b[K     |████▊                           | 10 kB 27.2 MB/s eta 0:00:01\r\u001b[K     |█████████▍                      | 20 kB 32.0 MB/s eta 0:00:01\r\u001b[K     |██████████████                  | 30 kB 34.1 MB/s eta 0:00:01\r\u001b[K     |██████████████████▊             | 40 kB 13.5 MB/s eta 0:00:01\r\u001b[K     |███████████████████████▍        | 51 kB 12.7 MB/s eta 0:00:01\r\u001b[K     |████████████████████████████    | 61 kB 14.6 MB/s eta 0:00:01\r\u001b[K     |████████████████████████████████| 69 kB 5.6 MB/s \n",
            "\u001b[?25h  Building wheel for folium (setup.py) ... \u001b[?25l\u001b[?25hdone\n"
          ]
        }
      ]
    },
    {
      "cell_type": "code",
      "source": [
        "!pip install -q --upgrade pandas_profiling"
      ],
      "metadata": {
        "id": "8ubf4VbebUmT",
        "colab": {
          "base_uri": "https://localhost:8080/"
        },
        "outputId": "f13b5d14-680e-4683-bf2e-13976acc57c5"
      },
      "execution_count": null,
      "outputs": [
        {
          "output_type": "stream",
          "name": "stdout",
          "text": [
            "\u001b[K     |████████████████████████████████| 261 kB 13.1 MB/s \n",
            "\u001b[K     |████████████████████████████████| 10.9 MB 55.9 MB/s \n",
            "\u001b[K     |████████████████████████████████| 102 kB 11.3 MB/s \n",
            "\u001b[K     |████████████████████████████████| 3.1 MB 58.3 MB/s \n",
            "\u001b[K     |████████████████████████████████| 303 kB 57.5 MB/s \n",
            "\u001b[K     |████████████████████████████████| 63 kB 1.6 MB/s \n",
            "\u001b[K     |████████████████████████████████| 596 kB 49.3 MB/s \n",
            "\u001b[31mERROR: pip's dependency resolver does not currently take into account all the packages that are installed. This behaviour is the source of the following dependency conflicts.\n",
            "google-colab 1.0.0 requires requests~=2.23.0, but you have requests 2.27.1 which is incompatible.\u001b[0m\n",
            "\u001b[?25h"
          ]
        }
      ]
    },
    {
      "cell_type": "code",
      "source": [
        "from google.colab import drive\n",
        "drive.mount('/content/gdrive')"
      ],
      "metadata": {
        "colab": {
          "base_uri": "https://localhost:8080/"
        },
        "id": "xylGewcZ_mDX",
        "outputId": "9855f3dd-5d6d-4062-873c-a0e1268ba888"
      },
      "execution_count": null,
      "outputs": [
        {
          "output_type": "stream",
          "name": "stdout",
          "text": [
            "Mounted at /content/gdrive\n"
          ]
        }
      ]
    },
    {
      "cell_type": "code",
      "source": [
        "from pandas_profiling import ProfileReport\n",
        "import numpy as np\n",
        "import pandas as pd\n",
        "import requests\n",
        "import csv"
      ],
      "metadata": {
        "id": "FBj-Yn3ZZCrq"
      },
      "execution_count": null,
      "outputs": []
    },
    {
      "cell_type": "code",
      "source": [
        "!ln -s /content/gdrive/My\\ Drive/ /mydrive\n",
        "!ls /mydrive"
      ],
      "metadata": {
        "colab": {
          "base_uri": "https://localhost:8080/"
        },
        "id": "RBduK-3jHYny",
        "outputId": "aea7b1d2-c24d-4e2b-e8ea-1123f7b9be40"
      },
      "execution_count": null,
      "outputs": [
        {
          "output_type": "stream",
          "name": "stdout",
          "text": [
            "\"02 - Qualité Exigée d'Un Logiciel.pdf\"\n",
            "\"03 - Cycle De Vie d'Un Logiciel.pdf\"\n",
            "'04 - Modélisation UML.pdf'\n",
            "'05 - Analyse Des Besoins (Spécifications).pdf'\n",
            "\"06 - Diagramme De Cas d'Utilisation.pdf\"\n",
            "\"07 - Diagramme d'Activité.pdf\"\n",
            "'09 - Diagramme De Séquence.pdf'\n",
            " 14189-apprenez-a-programmer-en-c.pdf\n",
            " 2018-2019.zip\n",
            " aymen.mp4\n",
            " CALCULABILITE-Premiere-Partie-RECURSIVITE-1-1.pdf\n",
            " calcul_cours.pdf\n",
            " cours-algo.pdf\n",
            " DIB_HAFIANE_PROJET_GL3.rar\n",
            " DIB_Sidali1.zip\n",
            " DIB_SIDALI.zip\n",
            "'Dossier bilel'\n",
            " file_download.pdf\n",
            "'Flex et Bison'\n",
            " Fonction_Usuelle_DL_Dérivé.pdf\n",
            " GL\n",
            "'GL (1)'\n",
            "'GL L2.zip'\n",
            "'GL L3.zip'\n",
            "'graphes (1).pdf'\n",
            " graphes.pdf\n",
            " integrales_gecif.pdf\n",
            " IntegrationElementaire.pdf\n",
            " ISIL.zip\n",
            "'liste des taches web.gdoc'\n",
            " livre-analyse-1.pdf\n",
            "'Maths info'\n",
            " programmer-en-langage-c.pdf\n",
            " projet\n",
            " Projet-2.exe\n",
            " stats_annuelles.csv\n",
            " Summary-of-English-language-lessons.pdf\n",
            "'TEST EXCEL DIB.xlsx'\n",
            " theme-ACHIR-FERIEL-TIGHIOUART-AYMEN-converti.pdf\n",
            " TP-ALGO-CHAINES.pdf\n",
            " TP-ALGO-ENREGISTREMENTS.pdf\n",
            "\"TP synthèse d'image\"\n"
          ]
        }
      ]
    },
    {
      "cell_type": "markdown",
      "source": [
        "### Fonctions "
      ],
      "metadata": {
        "id": "Rpdie75AR-D2"
      }
    },
    {
      "cell_type": "markdown",
      "source": [
        "## Étape 1\n",
        "Chargement des données via l'API"
      ],
      "metadata": {
        "id": "OAP1F9v2RRnl"
      }
    },
    {
      "cell_type": "code",
      "source": [
        "pd = pd.read_csv('/content/gdrive/MyDrive/stats_annuelles.csv', sep=\";\")"
      ],
      "metadata": {
        "id": "OuV9Uur3Mt0S"
      },
      "execution_count": null,
      "outputs": []
    },
    {
      "cell_type": "code",
      "source": [
        "pd.head(5)"
      ],
      "metadata": {
        "id": "6PyVZfAYMw6H",
        "colab": {
          "base_uri": "https://localhost:8080/",
          "height": 319
        },
        "outputId": "70142af5-7e20-47d2-9402-28a59474f034"
      },
      "execution_count": null,
      "outputs": [
        {
          "output_type": "execute_result",
          "data": {
            "text/plain": [
              "   Annee  Population  Naissances  Indicateur de fecondite  Taux de natalite  \\\n",
              "0   2010    397766.0      3990.0                      200              10.3   \n",
              "1   2011    401562.0      3853.0                      192               9.9   \n",
              "2   2012    406809.0      3880.0                      193               9.8   \n",
              "3   2013    411197.0      3864.0                      192               9.7   \n",
              "4   2014    414090.0      3696.0                      184               9.2   \n",
              "\n",
              "    Deces  Taux brut de mortalite  Taux brut de mortalite Hommes  \\\n",
              "0  3975.0                    10.3                           10.9   \n",
              "1  3859.0                     9.9                           10.6   \n",
              "2  4068.0                    10.3                           10.9   \n",
              "3  4138.0                    10.4                           10.8   \n",
              "4  4159.0                    10.3                           10.5   \n",
              "\n",
              "   Taux brut de mortalite Femmes  Taux de mortalite 0-64 ans  \\\n",
              "0                            9.8                         2.1   \n",
              "1                            9.2                         2.0   \n",
              "2                            9.7                         1.9   \n",
              "3                            9.9                         1.9   \n",
              "4                           10.2                         1.9   \n",
              "\n",
              "   Taux de mortalite 65 ans ou plus  Esperance de vie a la naissance Hommes  \\\n",
              "0                              39.2                                    77.8   \n",
              "1                              37.6                                    78.4   \n",
              "2                              39.7                                    78.7   \n",
              "3                              39.2                                    79.1   \n",
              "4                              37.2                                    79.5   \n",
              "\n",
              "   Esperance de vie a la naissance Femmes  Population immigree  \n",
              "0                                    84.8              17048.0  \n",
              "1                                    85.5              17614.0  \n",
              "2                                    85.4              18208.0  \n",
              "3                                    85.0              18871.0  \n",
              "4                                    85.1              19273.0  "
            ],
            "text/html": [
              "\n",
              "  <div id=\"df-d2211362-bb8e-477e-b332-8abb4a02f552\">\n",
              "    <div class=\"colab-df-container\">\n",
              "      <div>\n",
              "<style scoped>\n",
              "    .dataframe tbody tr th:only-of-type {\n",
              "        vertical-align: middle;\n",
              "    }\n",
              "\n",
              "    .dataframe tbody tr th {\n",
              "        vertical-align: top;\n",
              "    }\n",
              "\n",
              "    .dataframe thead th {\n",
              "        text-align: right;\n",
              "    }\n",
              "</style>\n",
              "<table border=\"1\" class=\"dataframe\">\n",
              "  <thead>\n",
              "    <tr style=\"text-align: right;\">\n",
              "      <th></th>\n",
              "      <th>Annee</th>\n",
              "      <th>Population</th>\n",
              "      <th>Naissances</th>\n",
              "      <th>Indicateur de fecondite</th>\n",
              "      <th>Taux de natalite</th>\n",
              "      <th>Deces</th>\n",
              "      <th>Taux brut de mortalite</th>\n",
              "      <th>Taux brut de mortalite Hommes</th>\n",
              "      <th>Taux brut de mortalite Femmes</th>\n",
              "      <th>Taux de mortalite 0-64 ans</th>\n",
              "      <th>Taux de mortalite 65 ans ou plus</th>\n",
              "      <th>Esperance de vie a la naissance Hommes</th>\n",
              "      <th>Esperance de vie a la naissance Femmes</th>\n",
              "      <th>Population immigree</th>\n",
              "    </tr>\n",
              "  </thead>\n",
              "  <tbody>\n",
              "    <tr>\n",
              "      <th>0</th>\n",
              "      <td>2010</td>\n",
              "      <td>397766.0</td>\n",
              "      <td>3990.0</td>\n",
              "      <td>200</td>\n",
              "      <td>10.3</td>\n",
              "      <td>3975.0</td>\n",
              "      <td>10.3</td>\n",
              "      <td>10.9</td>\n",
              "      <td>9.8</td>\n",
              "      <td>2.1</td>\n",
              "      <td>39.2</td>\n",
              "      <td>77.8</td>\n",
              "      <td>84.8</td>\n",
              "      <td>17048.0</td>\n",
              "    </tr>\n",
              "    <tr>\n",
              "      <th>1</th>\n",
              "      <td>2011</td>\n",
              "      <td>401562.0</td>\n",
              "      <td>3853.0</td>\n",
              "      <td>192</td>\n",
              "      <td>9.9</td>\n",
              "      <td>3859.0</td>\n",
              "      <td>9.9</td>\n",
              "      <td>10.6</td>\n",
              "      <td>9.2</td>\n",
              "      <td>2.0</td>\n",
              "      <td>37.6</td>\n",
              "      <td>78.4</td>\n",
              "      <td>85.5</td>\n",
              "      <td>17614.0</td>\n",
              "    </tr>\n",
              "    <tr>\n",
              "      <th>2</th>\n",
              "      <td>2012</td>\n",
              "      <td>406809.0</td>\n",
              "      <td>3880.0</td>\n",
              "      <td>193</td>\n",
              "      <td>9.8</td>\n",
              "      <td>4068.0</td>\n",
              "      <td>10.3</td>\n",
              "      <td>10.9</td>\n",
              "      <td>9.7</td>\n",
              "      <td>1.9</td>\n",
              "      <td>39.7</td>\n",
              "      <td>78.7</td>\n",
              "      <td>85.4</td>\n",
              "      <td>18208.0</td>\n",
              "    </tr>\n",
              "    <tr>\n",
              "      <th>3</th>\n",
              "      <td>2013</td>\n",
              "      <td>411197.0</td>\n",
              "      <td>3864.0</td>\n",
              "      <td>192</td>\n",
              "      <td>9.7</td>\n",
              "      <td>4138.0</td>\n",
              "      <td>10.4</td>\n",
              "      <td>10.8</td>\n",
              "      <td>9.9</td>\n",
              "      <td>1.9</td>\n",
              "      <td>39.2</td>\n",
              "      <td>79.1</td>\n",
              "      <td>85.0</td>\n",
              "      <td>18871.0</td>\n",
              "    </tr>\n",
              "    <tr>\n",
              "      <th>4</th>\n",
              "      <td>2014</td>\n",
              "      <td>414090.0</td>\n",
              "      <td>3696.0</td>\n",
              "      <td>184</td>\n",
              "      <td>9.2</td>\n",
              "      <td>4159.0</td>\n",
              "      <td>10.3</td>\n",
              "      <td>10.5</td>\n",
              "      <td>10.2</td>\n",
              "      <td>1.9</td>\n",
              "      <td>37.2</td>\n",
              "      <td>79.5</td>\n",
              "      <td>85.1</td>\n",
              "      <td>19273.0</td>\n",
              "    </tr>\n",
              "  </tbody>\n",
              "</table>\n",
              "</div>\n",
              "      <button class=\"colab-df-convert\" onclick=\"convertToInteractive('df-d2211362-bb8e-477e-b332-8abb4a02f552')\"\n",
              "              title=\"Convert this dataframe to an interactive table.\"\n",
              "              style=\"display:none;\">\n",
              "        \n",
              "  <svg xmlns=\"http://www.w3.org/2000/svg\" height=\"24px\"viewBox=\"0 0 24 24\"\n",
              "       width=\"24px\">\n",
              "    <path d=\"M0 0h24v24H0V0z\" fill=\"none\"/>\n",
              "    <path d=\"M18.56 5.44l.94 2.06.94-2.06 2.06-.94-2.06-.94-.94-2.06-.94 2.06-2.06.94zm-11 1L8.5 8.5l.94-2.06 2.06-.94-2.06-.94L8.5 2.5l-.94 2.06-2.06.94zm10 10l.94 2.06.94-2.06 2.06-.94-2.06-.94-.94-2.06-.94 2.06-2.06.94z\"/><path d=\"M17.41 7.96l-1.37-1.37c-.4-.4-.92-.59-1.43-.59-.52 0-1.04.2-1.43.59L10.3 9.45l-7.72 7.72c-.78.78-.78 2.05 0 2.83L4 21.41c.39.39.9.59 1.41.59.51 0 1.02-.2 1.41-.59l7.78-7.78 2.81-2.81c.8-.78.8-2.07 0-2.86zM5.41 20L4 18.59l7.72-7.72 1.47 1.35L5.41 20z\"/>\n",
              "  </svg>\n",
              "      </button>\n",
              "      \n",
              "  <style>\n",
              "    .colab-df-container {\n",
              "      display:flex;\n",
              "      flex-wrap:wrap;\n",
              "      gap: 12px;\n",
              "    }\n",
              "\n",
              "    .colab-df-convert {\n",
              "      background-color: #E8F0FE;\n",
              "      border: none;\n",
              "      border-radius: 50%;\n",
              "      cursor: pointer;\n",
              "      display: none;\n",
              "      fill: #1967D2;\n",
              "      height: 32px;\n",
              "      padding: 0 0 0 0;\n",
              "      width: 32px;\n",
              "    }\n",
              "\n",
              "    .colab-df-convert:hover {\n",
              "      background-color: #E2EBFA;\n",
              "      box-shadow: 0px 1px 2px rgba(60, 64, 67, 0.3), 0px 1px 3px 1px rgba(60, 64, 67, 0.15);\n",
              "      fill: #174EA6;\n",
              "    }\n",
              "\n",
              "    [theme=dark] .colab-df-convert {\n",
              "      background-color: #3B4455;\n",
              "      fill: #D2E3FC;\n",
              "    }\n",
              "\n",
              "    [theme=dark] .colab-df-convert:hover {\n",
              "      background-color: #434B5C;\n",
              "      box-shadow: 0px 1px 3px 1px rgba(0, 0, 0, 0.15);\n",
              "      filter: drop-shadow(0px 1px 2px rgba(0, 0, 0, 0.3));\n",
              "      fill: #FFFFFF;\n",
              "    }\n",
              "  </style>\n",
              "\n",
              "      <script>\n",
              "        const buttonEl =\n",
              "          document.querySelector('#df-d2211362-bb8e-477e-b332-8abb4a02f552 button.colab-df-convert');\n",
              "        buttonEl.style.display =\n",
              "          google.colab.kernel.accessAllowed ? 'block' : 'none';\n",
              "\n",
              "        async function convertToInteractive(key) {\n",
              "          const element = document.querySelector('#df-d2211362-bb8e-477e-b332-8abb4a02f552');\n",
              "          const dataTable =\n",
              "            await google.colab.kernel.invokeFunction('convertToInteractive',\n",
              "                                                     [key], {});\n",
              "          if (!dataTable) return;\n",
              "\n",
              "          const docLinkHtml = 'Like what you see? Visit the ' +\n",
              "            '<a target=\"_blank\" href=https://colab.research.google.com/notebooks/data_table.ipynb>data table notebook</a>'\n",
              "            + ' to learn more about interactive tables.';\n",
              "          element.innerHTML = '';\n",
              "          dataTable['output_type'] = 'display_data';\n",
              "          await google.colab.output.renderOutput(dataTable, element);\n",
              "          const docLink = document.createElement('div');\n",
              "          docLink.innerHTML = docLinkHtml;\n",
              "          element.appendChild(docLink);\n",
              "        }\n",
              "      </script>\n",
              "    </div>\n",
              "  </div>\n",
              "  "
            ]
          },
          "metadata": {},
          "execution_count": 9
        }
      ]
    },
    {
      "cell_type": "code",
      "source": [
        "pd.reset_index(drop=True, inplace=True)\n",
        "profile = ProfileReport(pd)\n",
        "profile.to_file('Profiling.html')"
      ],
      "metadata": {
        "id": "r3pq-oI-3CL5"
      },
      "execution_count": null,
      "outputs": []
    },
    {
      "cell_type": "code",
      "source": [
        ""
      ],
      "metadata": {
        "id": "afd6OBGX0tZk"
      },
      "execution_count": null,
      "outputs": []
    }
  ]
}
